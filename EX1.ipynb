{
 "cells": [
  {
   "cell_type": "markdown",
   "id": "7df0b7a6",
   "metadata": {},
   "source": [
    "#### 남녀 파트너 정해주기 프로그램(zip)\n",
    "같은 수의 남녀 모임에서 파트너를 랜덤하게 정해주는 프로그램을 만들어 보세요\n",
    "\n",
    "male = ['철수','갑돌','로미오','이몽룡','온돌']\n",
    "\n",
    "female = ['미미','갑순','줄리엣','성춘향','평강']"
   ]
  },
  {
   "cell_type": "markdown",
   "id": "5e68030f",
   "metadata": {},
   "source": [
    "#### 사용자가 입력한 횟수만큼 로또 변호를 출력하는 프로그램을 작성하세요. (중복 금지)\n",
    "[도전과제] 발표자를 원하는 수만큼 랜덤하게 출력하는 프로그램을 작성하세요."
   ]
  },
  {
   "cell_type": "code",
   "execution_count": null,
   "id": "31170ad1",
   "metadata": {},
   "outputs": [],
   "source": [
    "import random \n",
    "import numpy as np\n",
    "\n",
    "\n",
    "list = ['박영권','김현지','김덕현','변서연','한지웅','양주희','이호원','정지은','이정현A',\n",
    "         '이정현B','이명진','이상윤','조승현','강유한','김영선','최애림','김민섭','박혜린',\n",
    "         '윤정준','김진형','정승기','진청아','신창훈','김병석','박세희']\n",
    "\n",
    "\n",
    "\n",
    "print(\"=============== CAKD7 발표자 랜덤 뽑기 입니다.===============\"'\\n')\n",
    "                        \n",
    "get_ran_num = int(input(\" 발표 인원을 입력해주세요 >  \"'\\n')) \n",
    "\n",
    "\n",
    "lucky_guy = random.sample(list,get_ran_num)\n",
    "\n",
    "print(\" \")\n",
    "for i in range(get_ran_num):\n",
    "    print(f'{i+1}번 문제 발표자는 {lucky_guy[i]} 입니다.')"
   ]
  },
  {
   "cell_type": "markdown",
   "id": "75a72514",
   "metadata": {},
   "source": [
    "#### 입력받은 문자열의 각 문자를 그 다음 문자로 변경하여 출력하세요. abc -> bca"
   ]
  },
  {
   "cell_type": "markdown",
   "id": "85c3682e",
   "metadata": {},
   "source": [
    "#### url에서 호스트 도메인을 추출하여 출력하세요.\n",
    "url = 'http://news.naver.com/main/read.nhn?mode=LSD&mid=shm&sid1=105&oid=028&aid=0002334601'"
   ]
  },
  {
   "cell_type": "markdown",
   "id": "3f5621e8",
   "metadata": {},
   "source": [
    "#### url에서 쿼리문을 추출하여 출력하세요.\n",
    "url에서 '?'뒤에 표시되는 문자열을 쿼리 문자열이라고 하며 변수=값 사이 &로 구분되어 나열된다.\n",
    "url = 'http://news.naver.com/main/read.nhn?mode=LSD&mid=shm&sid1=105&oid=028&aid=0002334601'"
   ]
  },
  {
   "cell_type": "markdown",
   "id": "d4949bbc",
   "metadata": {},
   "source": [
    "#### 텍스트 파일(mydata.txt)을 읽고 파일의 내용에서 나타나는 문자들에 대해 자주 나타나는 문자들을 아래와 같이 순서대로 출력하세요.\n",
    "```\n",
    "[ ] -> [177]회 나타남\n",
    "[e] -> [97]회 나타남\n",
    "[t] -> [85]회 나타남\n",
    "```"
   ]
  },
  {
   "cell_type": "markdown",
   "id": "23524a7b",
   "metadata": {},
   "source": [
    "#### 두개의 수를 입력한 후 두개의 수에 대한 사칙연산을 수행하세요.(0을 입력한 경우 다시 입력하도록 조치)\n",
    "Cal4 클래스를 만들어서 작성"
   ]
  },
  {
   "cell_type": "markdown",
   "id": "22d3d21f",
   "metadata": {},
   "source": [
    "#### Order 클래스를 상속받아 extraOrder 클래스에서 메소드 오버라이딩하여 출력가격에 원이 추가되도록 출력하세요."
   ]
  },
  {
   "cell_type": "code",
   "execution_count": null,
   "id": "da111ccd",
   "metadata": {},
   "outputs": [],
   "source": [
    "class Order: \n",
    "    def __init__(self, name): \n",
    "        self.customer = 0 \n",
    "        self.name = name \n",
    "    def order(self, price): \n",
    "        self.customer += price \n",
    "        return self.customer\n",
    "    \n",
    "order = Order('kevin')\n",
    "print(order.order(1000))"
   ]
  },
  {
   "cell_type": "markdown",
   "id": "56897d60",
   "metadata": {},
   "source": [
    "#### 업무미팅이 2시임을 알려주는 자동 이메일을 클래스 AutoEmail을 작성하여 아래와 같이 출력하세요.\n",
    "안녕하세요. Kevin님, 업무미팅은 2시입니다."
   ]
  },
  {
   "cell_type": "markdown",
   "id": "53b59629",
   "metadata": {},
   "source": [
    "#### 정규 표현식을 사용하여 text에서 전화번호만 출력하세요.\n",
    "text=\"문의사항이 있으면 032-232-3245으로 연락주시기 바랍니다.\""
   ]
  },
  {
   "cell_type": "code",
   "execution_count": 1,
   "id": "96340e61",
   "metadata": {},
   "outputs": [
    {
     "data": {
      "text/plain": [
       "['032', '232', '3245']"
      ]
     },
     "execution_count": 1,
     "metadata": {},
     "output_type": "execute_result"
    }
   ],
   "source": [
    "import re\n",
    "text=\"문의사항이 있으면 032-232-3245으로 연락주시기 바랍니다.\"\n",
    "p = re.compile(\"[0-9]+\")\n",
    "p.findall(text)"
   ]
  },
  {
   "cell_type": "markdown",
   "id": "84d7ab62",
   "metadata": {},
   "source": [
    "#### 정규표현식을 사용하여 text에서 에러가 들어간 부분만 포함하는 리스트를 출력하세요.\n",
    "text=\"에러 1122,레퍼런스 오류, 에러 1033, 아규먼트 오류, 에러 xxx\""
   ]
  },
  {
   "cell_type": "code",
   "execution_count": 2,
   "id": "48ea8279",
   "metadata": {},
   "outputs": [
    {
     "data": {
      "text/plain": [
       "['에러 1122', '에러 1033', '에러 xxx']"
      ]
     },
     "execution_count": 2,
     "metadata": {},
     "output_type": "execute_result"
    }
   ],
   "source": [
    "text=\"에러 1122,레퍼런스 오류, 에러 1033, 아규먼트 오류, 에러 xxx\"\n",
    "p=re.compile(\"에러\\s[\\dx]+\")\n",
    "p.findall(text)"
   ]
  },
  {
   "cell_type": "markdown",
   "id": "0b6ae992",
   "metadata": {},
   "source": [
    "#### 정규표현식을 사용하여 text에서 지역코드만 출력하세요.\n",
    "text=\"문의사항이 있으면 032-232-3245으로 연락 주시기 바랍니다.\""
   ]
  },
  {
   "cell_type": "code",
   "execution_count": 3,
   "id": "35d1eaff",
   "metadata": {},
   "outputs": [
    {
     "data": {
      "text/plain": [
       "'032'"
      ]
     },
     "execution_count": 3,
     "metadata": {},
     "output_type": "execute_result"
    }
   ],
   "source": [
    "text=\"문의사항이 있으면 032-232-3245으로 연락 주시기 바랍니다.\"\n",
    "p=re.compile(\"[\\d]{3}\")\n",
    "p.search(text).group()"
   ]
  },
  {
   "cell_type": "markdown",
   "id": "71812953",
   "metadata": {},
   "source": [
    "#### 정규표현식을 사용하여 text에서 지역코드 제외한 번호만 출력하세요.\n",
    "text=\"문의사항이 있으면 032-232-3245으로 연락주시기 바랍니다.\""
   ]
  },
  {
   "cell_type": "code",
   "execution_count": 7,
   "id": "d78b1f2d",
   "metadata": {},
   "outputs": [
    {
     "data": {
      "text/plain": [
       "[]"
      ]
     },
     "execution_count": 7,
     "metadata": {},
     "output_type": "execute_result"
    }
   ],
   "source": [
    "text=\"문의사항이 있으면 032-232-3245으로 연락주시기 바랍니다.\"\n",
    "p=re.compile(\"(?<=-)\\d{3,4}\")\n",
    "p.findall(text)"
   ]
  },
  {
   "cell_type": "markdown",
   "id": "92442f51",
   "metadata": {},
   "source": [
    "#### Q14.'abcdefghij' 에 대하여 중첩을 적용한 서브그룹 5개로 컴파일하여 group()함수를 이용하여 'abcdefghi'와 e'를 출력하세요\n"
   ]
  },
  {
   "cell_type": "code",
   "execution_count": 5,
   "id": "83e40081",
   "metadata": {},
   "outputs": [
    {
     "data": {
      "text/plain": [
       "('abdefghi', 'e')"
      ]
     },
     "execution_count": 5,
     "metadata": {},
     "output_type": "execute_result"
    }
   ],
   "source": [
    "text='abdefghij'\n",
    "p=re.compile(\"(((abd)(e)(fghi))j)\")\n",
    "p.search(text).group(2), p.search(text).group(4)"
   ]
  },
  {
   "cell_type": "code",
   "execution_count": 8,
   "id": "de17d441",
   "metadata": {},
   "outputs": [
    {
     "name": "stdout",
     "output_type": "stream",
     "text": [
      "abcdefghi\n"
     ]
    },
    {
     "data": {
      "text/plain": [
       "'e'"
      ]
     },
     "execution_count": 8,
     "metadata": {},
     "output_type": "execute_result"
    }
   ],
   "source": [
    "p = re.compile('(a(b(c(d(e)f)g)h)i)j')\n",
    "m = p.match('abcdefghij')\n",
    "# print(m.group(0))\n",
    "print(m.group(1))\n",
    "m.group(5)\n"
   ]
  },
  {
   "cell_type": "markdown",
   "id": "25938a9b",
   "metadata": {},
   "source": [
    "#### 위문제에서 모든 서브 그룹에 대한 문자열을 포함하는 튜플을 출력하세요."
   ]
  },
  {
   "cell_type": "code",
   "execution_count": 6,
   "id": "4c3b6b0e",
   "metadata": {},
   "outputs": [
    {
     "data": {
      "text/plain": [
       "('abdefghij', 'abdefghi', 'abd', 'e', 'fghi')"
      ]
     },
     "execution_count": 6,
     "metadata": {},
     "output_type": "execute_result"
    }
   ],
   "source": [
    "p.search(text).groups()"
   ]
  },
  {
   "cell_type": "markdown",
   "id": "e8e93800",
   "metadata": {},
   "source": [
    "#### Q. 이름으로 그룹을 참조하여 'Lots of punctuation 에서 Lots를 출력하세요.\n",
    "``` 그룹에 이름을 지정하여```"
   ]
  },
  {
   "cell_type": "code",
   "execution_count": 17,
   "id": "835c1e38",
   "metadata": {},
   "outputs": [
    {
     "data": {
      "text/plain": [
       "{'first': 'Lots', 'second': 'of', 'third': 'punctuation'}"
      ]
     },
     "metadata": {},
     "output_type": "display_data"
    },
    {
     "name": "stdout",
     "output_type": "stream",
     "text": [
      "Lots\n"
     ]
    }
   ],
   "source": [
    "import re\n",
    "p=re.compile(r\"(?P<first>\\w+)\\s+((?P<second>\\w+)\\s+(?P<third>\\w+))\")\n",
    "m=p.search(\"Lots of punctuation\")\n",
    "display(m.groupdict())\n",
    "print(m.group(\"first\"))"
   ]
  },
  {
   "cell_type": "markdown",
   "id": "89512d41",
   "metadata": {},
   "source": [
    "#### Q. 'Paris is very very beautiful.'에서 'very very'를 출력하세요.\n"
   ]
  },
  {
   "cell_type": "code",
   "execution_count": 30,
   "id": "33ef9023",
   "metadata": {},
   "outputs": [
    {
     "data": {
      "text/plain": [
       "'very very '"
      ]
     },
     "execution_count": 30,
     "metadata": {},
     "output_type": "execute_result"
    }
   ],
   "source": [
    "p=re.compile(r\"(very\\s){2}\")\n",
    "m=p.search('Paris is very very beautiful.')\n",
    "m.group()"
   ]
  },
  {
   "cell_type": "markdown",
   "id": "f0b54f0f",
   "metadata": {},
   "source": [
    "#### Q. 정규표현식을 작성하여 아래와 같이 출력하세요.\n",
    "['1 apple, 5 oranges, 3 boys, 4 girls; 10 army| 11 mr']"
   ]
  },
  {
   "cell_type": "code",
   "execution_count": 38,
   "id": "1ae3217b",
   "metadata": {},
   "outputs": [
    {
     "name": "stdout",
     "output_type": "stream",
     "text": [
      "['1 apple', '5 oranges', '3 boys', '4 girls', '10 army', '11 mr']\n"
     ]
    }
   ],
   "source": [
    "# Q\n",
    "import re\n",
    "li = '1 apple, 5 oranges, 3 boys, 4 girls; 10 army| 11 mr'\n",
    "regex = re.compile(r\"\\d+\\s\\w+\")\n",
    "list = regex.findall(li)\n",
    "print(list)\n"
   ]
  },
  {
   "cell_type": "markdown",
   "id": "103826f0",
   "metadata": {},
   "source": [
    "#### Q text에서 'H,h'만 출력하세요."
   ]
  },
  {
   "cell_type": "code",
   "execution_count": 42,
   "id": "8bb2db3d",
   "metadata": {},
   "outputs": [],
   "source": [
    "text = 'Hello my friend! Life is short you need Python!'"
   ]
  },
  {
   "cell_type": "code",
   "execution_count": 56,
   "id": "efc8569e",
   "metadata": {},
   "outputs": [
    {
     "data": {
      "text/plain": [
       "['H', 'h', 'h']"
      ]
     },
     "execution_count": 56,
     "metadata": {},
     "output_type": "execute_result"
    }
   ],
   "source": [
    "text = 'Hello my friend! Life is short you need Python!'\n",
    "p=re.compile('h',re.I)\n",
    "m=p.findall(text)\n",
    "m"
   ]
  },
  {
   "cell_type": "markdown",
   "id": "25fa88e5",
   "metadata": {},
   "source": [
    "#### Q. text에서 'H,h'가 아닌 것 모두를 출력하세요."
   ]
  },
  {
   "cell_type": "code",
   "execution_count": 60,
   "id": "f3e4015c",
   "metadata": {},
   "outputs": [
    {
     "data": {
      "text/plain": [
       "['ello my friend! Life is s', 'ort you need Pyt', 'on!']"
      ]
     },
     "execution_count": 60,
     "metadata": {},
     "output_type": "execute_result"
    }
   ],
   "source": [
    "text = 'Hello my friend! Life is short you need Python!'\n",
    "p=re.compile('[^h]+',re.I)\n",
    "m=p.findall(text)\n",
    "m"
   ]
  },
  {
   "cell_type": "markdown",
   "id": "8ffe6a62",
   "metadata": {},
   "source": [
    "#### Q. 'we are going home'에서 home만 출력하세요.\n"
   ]
  },
  {
   "cell_type": "code",
   "execution_count": 6,
   "id": "f95db928",
   "metadata": {},
   "outputs": [
    {
     "data": {
      "text/plain": [
       "'home'"
      ]
     },
     "execution_count": 6,
     "metadata": {},
     "output_type": "execute_result"
    }
   ],
   "source": [
    "import re\n",
    "text='we are going home'\n",
    "p=re.compile('home')\n",
    "m=p.search(text).group()\n",
    "m"
   ]
  },
  {
   "cell_type": "markdown",
   "id": "07a22170",
   "metadata": {},
   "source": [
    "#### Q. '199305, 1923A, a93247'에서 '199305'만 출력하세요.\n"
   ]
  },
  {
   "cell_type": "code",
   "execution_count": 18,
   "id": "fa8d477c",
   "metadata": {},
   "outputs": [
    {
     "data": {
      "text/plain": [
       "'199305'"
      ]
     },
     "execution_count": 18,
     "metadata": {},
     "output_type": "execute_result"
    }
   ],
   "source": [
    "li =  '199305, 1923A, a93247'\n",
    "p=re.compile('[0-9]+')\n",
    "m=p.search(li)\n",
    "m.group()"
   ]
  },
  {
   "cell_type": "markdown",
   "id": "61bd7800",
   "metadata": {},
   "source": [
    "#### Q. '12345abc'에서 'abc'만 출력하세요."
   ]
  },
  {
   "cell_type": "code",
   "execution_count": 13,
   "id": "fba33747",
   "metadata": {},
   "outputs": [
    {
     "name": "stdout",
     "output_type": "stream",
     "text": [
      "abc\n"
     ]
    }
   ],
   "source": [
    "text='12345abc'\n",
    "p=re.compile('[a-z]+')\n",
    "m=p.findall(text)\n",
    "print(m[0])"
   ]
  },
  {
   "cell_type": "markdown",
   "id": "b5dd5751",
   "metadata": {},
   "source": [
    "#### Q. '12345abc'에서 'a'만 출력하세요.\n"
   ]
  },
  {
   "cell_type": "code",
   "execution_count": 10,
   "id": "161ffd5d",
   "metadata": {},
   "outputs": [
    {
     "data": {
      "text/plain": [
       "'a'"
      ]
     },
     "execution_count": 10,
     "metadata": {},
     "output_type": "execute_result"
    }
   ],
   "source": [
    "text='12345abc'\n",
    "m= re.search('[a-z]',text)\n",
    "m.group(0)"
   ]
  },
  {
   "cell_type": "markdown",
   "id": "74012e81",
   "metadata": {},
   "source": [
    "#### Q. 'abc12345Abc'에서 'A'만 출력하세요.\n"
   ]
  },
  {
   "cell_type": "code",
   "execution_count": 21,
   "id": "82333032",
   "metadata": {},
   "outputs": [
    {
     "data": {
      "text/plain": [
       "'A'"
      ]
     },
     "execution_count": 21,
     "metadata": {},
     "output_type": "execute_result"
    }
   ],
   "source": [
    "text='abc12345ABC'\n",
    "p=re.compile('[A-Z]')\n",
    "m=p.search(text)\n",
    "m.group()"
   ]
  },
  {
   "cell_type": "code",
   "execution_count": 22,
   "id": "ef6fd045",
   "metadata": {},
   "outputs": [
    {
     "data": {
      "text/plain": [
       "'a'"
      ]
     },
     "execution_count": 22,
     "metadata": {},
     "output_type": "execute_result"
    }
   ],
   "source": [
    "m=re.search('[a-z]',text)\n",
    "m.group()"
   ]
  },
  {
   "cell_type": "markdown",
   "id": "24304c09",
   "metadata": {},
   "source": [
    "#### Q. 'Banker'에서 'anker',    /// 'banker123'에서 'banker'를 출력하세요\n"
   ]
  },
  {
   "cell_type": "code",
   "execution_count": 40,
   "id": "5188f493",
   "metadata": {},
   "outputs": [
    {
     "name": "stdout",
     "output_type": "stream",
     "text": [
      "anker\n",
      "banker\n"
     ]
    }
   ],
   "source": [
    "text='Banker'\n",
    "text2='banker123'\n",
    "p=re.compile(r'[a-z]+')\n",
    "m=p.search(text)\n",
    "print(m.group())\n",
    "p2=re.compile(r'[a-z]+')\n",
    "m2=p2.search(text2)\n",
    "print(m2.group())"
   ]
  },
  {
   "cell_type": "markdown",
   "id": "90dc4a9c",
   "metadata": {},
   "source": [
    "#### Q. 'KOREA 대한민국'에서 '대'만 출력하세요.\n"
   ]
  },
  {
   "cell_type": "code",
   "execution_count": 34,
   "id": "9192798b",
   "metadata": {},
   "outputs": [
    {
     "data": {
      "text/plain": [
       "'대'"
      ]
     },
     "execution_count": 34,
     "metadata": {},
     "output_type": "execute_result"
    }
   ],
   "source": [
    "text='KOREA대한민국'\n",
    "import re\n",
    "p=re.compile('[가-힣]')\n",
    "m=p.search(text)\n",
    "m.group()"
   ]
  },
  {
   "cell_type": "markdown",
   "id": "7a5b467e",
   "metadata": {},
   "source": [
    "#### Q. 'aaaaBBBcccDDDeee'을 모두 출력하세요.\n",
    "text = 'aaaBBccDDeeaaaaBBBcccDDDeeeeeeDDDcccBBBaaaa'\n"
   ]
  },
  {
   "cell_type": "code",
   "execution_count": 50,
   "id": "096e247e",
   "metadata": {},
   "outputs": [
    {
     "data": {
      "text/plain": [
       "'aaaaBBBcccDDDeee'"
      ]
     },
     "execution_count": 50,
     "metadata": {},
     "output_type": "execute_result"
    }
   ],
   "source": [
    "text = 'aaaBBccDDeeaaaaBBBcccDDDeeeeeeDDDcccBBBaaaa'\n",
    "p=re.compile(r'a{4}.+De{3}')\n",
    "m=p.search(text)\n",
    "m.group()"
   ]
  },
  {
   "cell_type": "markdown",
   "id": "b65d59d6",
   "metadata": {},
   "source": [
    "#### Q. 아래의 경우에서 \\<html>만 출력하세요"
   ]
  },
  {
   "cell_type": "code",
   "execution_count": 3,
   "id": "69ed2e40",
   "metadata": {},
   "outputs": [
    {
     "name": "stdout",
     "output_type": "stream",
     "text": [
      "59\n"
     ]
    },
    {
     "data": {
      "text/plain": [
       "'<html>'"
      ]
     },
     "execution_count": 3,
     "metadata": {},
     "output_type": "execute_result"
    }
   ],
   "source": [
    "# Q\n",
    "# pattern = re.compile('<.*>')\n",
    "import re\n",
    "pattern = re.compile('<.*?>')\n",
    "# pattern = re.compile('<html>')\n",
    "text = '<html><head><title>Title</title></head><body></body></html>'\n",
    "\n",
    "print(len(text))\n",
    "p = pattern.search(text)\n",
    "p.group()"
   ]
  },
  {
   "cell_type": "code",
   "execution_count": null,
   "id": "7dab5449",
   "metadata": {},
   "outputs": [],
   "source": [
    "pattern = re.compile('<.*>')\n",
    "\n",
    "print(len(text))\n",
    "p = pattern.search(text)\n"
   ]
  },
  {
   "cell_type": "markdown",
   "id": "95a7aeff",
   "metadata": {},
   "source": [
    "#### Q. '1234a1234'에서  '1', '2', '3', '4'를 모두 출력하세요.\n"
   ]
  },
  {
   "cell_type": "code",
   "execution_count": 43,
   "id": "9c1cf0e2",
   "metadata": {},
   "outputs": [
    {
     "data": {
      "text/plain": [
       "['1', '2', '3', '4', '1', '2', '3', '4']"
      ]
     },
     "execution_count": 43,
     "metadata": {},
     "output_type": "execute_result"
    }
   ],
   "source": [
    "text='1234a1234'\n",
    "p=re.compile('[0-9]')\n",
    "m=p.findall(text)\n",
    "m\n"
   ]
  },
  {
   "cell_type": "markdown",
   "id": "affed0f0",
   "metadata": {},
   "source": [
    "#### Q32. text에서 전체문장 모두 출력하세요.\n"
   ]
  },
  {
   "cell_type": "code",
   "execution_count": 20,
   "id": "ffc73349",
   "metadata": {
    "scrolled": true
   },
   "outputs": [
    {
     "name": "stdout",
     "output_type": "stream",
     "text": [
      "what are you doing?\n",
      "it is going to be late for school\n",
      "we need to hurry up\n"
     ]
    }
   ],
   "source": [
    "# Q.\n",
    "text = \"what are you doing?\\nit is going to be late for school\\nwe need to hurry up\"\n",
    "regex = re.compile('\\D*')\n",
    "mo = regex.search(text)\n",
    "print(mo.group())\n"
   ]
  },
  {
   "cell_type": "code",
   "execution_count": 21,
   "id": "1dadf7ba",
   "metadata": {},
   "outputs": [
    {
     "name": "stdout",
     "output_type": "stream",
     "text": [
      "what are you doing?\n",
      "it is going to be late for school\n",
      "we need to hurry up\n"
     ]
    }
   ],
   "source": [
    "regex = re.compile('.*',re.DOTALL)\n",
    "mo = regex.search(text)\n",
    "print(mo.group())"
   ]
  },
  {
   "cell_type": "markdown",
   "id": "bc48f5b4",
   "metadata": {},
   "source": [
    "#### Q33. text에서 대소문자 구분없이 전체문장 모두 출력하세요\n",
    "text = 'Friend fRiend friEnd FRIEND'\n"
   ]
  },
  {
   "cell_type": "code",
   "execution_count": 26,
   "id": "3f9b82db",
   "metadata": {},
   "outputs": [
    {
     "name": "stdout",
     "output_type": "stream",
     "text": [
      "Friend fRiend friEnd FRIEND\n"
     ]
    }
   ],
   "source": [
    "import re\n",
    "text = 'Friend fRiend friEnd FRIEND'\n",
    "p = re.compile('[a-zA-Z\\s]+')\n",
    "m = p.search(text)\n",
    "print(m.group())"
   ]
  },
  {
   "cell_type": "code",
   "execution_count": 31,
   "id": "0474927d",
   "metadata": {},
   "outputs": [
    {
     "name": "stdout",
     "output_type": "stream",
     "text": [
      "Friend\n",
      "\n",
      "fRiend\n",
      "\n",
      "friEnd\n",
      "\n",
      "FRIEND\n",
      "\n"
     ]
    }
   ],
   "source": [
    "text = 'Friend fRiend friEnd FRIEND'\n",
    "regex = re.compile('[a-z]*',re.I)\n",
    "mo = regex.findall(text)\n",
    "for i in mo:\n",
    "    print(i)"
   ]
  },
  {
   "cell_type": "markdown",
   "id": "7bb99a24",
   "metadata": {},
   "source": [
    "#### Q34. 1609160537.371015을 \"Sat Jun 26 08:35:03 2021\" 포멧으로 출력하세요.\n"
   ]
  },
  {
   "cell_type": "code",
   "execution_count": 30,
   "id": "4d70fae9",
   "metadata": {},
   "outputs": [
    {
     "data": {
      "text/plain": [
       "'Mon Dec 28 22:02:17 2020'"
      ]
     },
     "execution_count": 30,
     "metadata": {},
     "output_type": "execute_result"
    }
   ],
   "source": [
    "import time\n",
    "from datetime import datetime\n",
    "a =1609160537.371015\n",
    "time1 = time.ctime(a)\n",
    "time1"
   ]
  },
  {
   "cell_type": "code",
   "execution_count": 32,
   "id": "967586bb",
   "metadata": {},
   "outputs": [
    {
     "name": "stdout",
     "output_type": "stream",
     "text": [
      "2020-12-28 22:02:17.371015\n"
     ]
    },
    {
     "data": {
      "text/plain": [
       "'Mon Dec 28 22:02:17 2020'"
      ]
     },
     "execution_count": 32,
     "metadata": {},
     "output_type": "execute_result"
    }
   ],
   "source": [
    "d = datetime.fromtimestamp(1609160537.371015)\n",
    "print(d)\n",
    "d.strftime('%c')"
   ]
  },
  {
   "cell_type": "code",
   "execution_count": 33,
   "id": "56dec38d",
   "metadata": {},
   "outputs": [
    {
     "data": {
      "text/plain": [
       "'Mon Dec 28 22:02:17 2020'"
      ]
     },
     "execution_count": 33,
     "metadata": {},
     "output_type": "execute_result"
    }
   ],
   "source": [
    "from datetime import datetime\n",
    "\n",
    "time = datetime.fromtimestamp(int(1609160537.371015))\n",
    "time = time.strftime(\"%a %b %d %H:%M:%S %Y\")\n",
    "time\n"
   ]
  },
  {
   "cell_type": "markdown",
   "id": "842ed389",
   "metadata": {},
   "source": [
    "#### Q35. 현재 날짜와 시간을 \"Sat Jun 26 08:35:03 2021\" 포멧으로 출력하세요.\n"
   ]
  },
  {
   "cell_type": "code",
   "execution_count": 10,
   "id": "4ff140f2",
   "metadata": {
    "scrolled": true
   },
   "outputs": [
    {
     "data": {
      "text/plain": [
       "'Tue Jul 26 08:51:56 2022'"
      ]
     },
     "execution_count": 10,
     "metadata": {},
     "output_type": "execute_result"
    }
   ],
   "source": [
    "import time\n",
    "nt = time.ctime()\n",
    "nt"
   ]
  },
  {
   "cell_type": "code",
   "execution_count": 36,
   "id": "f8da6338",
   "metadata": {},
   "outputs": [
    {
     "data": {
      "text/plain": [
       "'Tue Jul 26 09:21:25 2022'"
      ]
     },
     "execution_count": 36,
     "metadata": {},
     "output_type": "execute_result"
    }
   ],
   "source": [
    "import time\n",
    "t = time.time()\n",
    "d = datetime.fromtimestamp(t)\n",
    "d.strftime('%c')"
   ]
  },
  {
   "cell_type": "markdown",
   "id": "7a7cc260",
   "metadata": {},
   "source": [
    "ctime() 함수는 주어진 timestamp를 현지 시간대 기준으로 소위 미국에서 흔히 사용되는 요 월 일 시:분:초 년 포멧으로 변환해줍니다. 그냥 간단하게 timestamp가 나타내는 날짜와 시간을 확인해보는 용도로 쓰기에 좋습니다.\n"
   ]
  },
  {
   "cell_type": "markdown",
   "id": "d09a3153",
   "metadata": {},
   "source": [
    "#### Q36. 현재 시간을 년-월-일 시:분:초로 출력하세요.\n"
   ]
  },
  {
   "cell_type": "code",
   "execution_count": 5,
   "id": "f2869fd6-b64f-4536-a778-89c04e87a3f6",
   "metadata": {},
   "outputs": [
    {
     "name": "stdout",
     "output_type": "stream",
     "text": [
      "2022-07-26 22:06:31\n"
     ]
    }
   ],
   "source": [
    "from datetime import datetime\n",
    "nowtime_S=datetime.now()\n",
    "nowtime = nowtime_S.strftime('%Y-%m-%d %H:%M:%S')\n",
    "print(nowtime)\n"
   ]
  },
  {
   "cell_type": "markdown",
   "id": "be153cad",
   "metadata": {},
   "source": [
    "#### Q37. 현재 시간을 time.time을 불러와서 년-월-일 시:분:초로 출력하세요.\n"
   ]
  },
  {
   "cell_type": "code",
   "execution_count": 7,
   "id": "b884d3e9-bee4-4648-9e1e-1930930eb12f",
   "metadata": {},
   "outputs": [
    {
     "data": {
      "text/plain": [
       "datetime.datetime(2022, 7, 26, 22, 8, 46, 927634)"
      ]
     },
     "execution_count": 7,
     "metadata": {},
     "output_type": "execute_result"
    }
   ],
   "source": [
    "import time\n",
    "nowtime_S=time.time()\n",
    "nowtime = datetime.fromtimestamp(nowtime_S)\n",
    "nowtime"
   ]
  },
  {
   "cell_type": "markdown",
   "id": "0991c101",
   "metadata": {},
   "source": [
    "#### Q38. 올해 경과된 날짜수 계산하세요"
   ]
  },
  {
   "cell_type": "code",
   "execution_count": 8,
   "id": "b3ad7141-d80f-40fe-afca-e7502b582263",
   "metadata": {},
   "outputs": [
    {
     "data": {
      "text/plain": [
       "datetime.timedelta(days=206, seconds=80003, microseconds=149108)"
      ]
     },
     "execution_count": 8,
     "metadata": {},
     "output_type": "execute_result"
    }
   ],
   "source": [
    "since_time = datetime.strptime('20220101','%Y%m%d')\n",
    "nowtime = datetime.now()\n",
    "result = nowtime - since_time\n",
    "result"
   ]
  },
  {
   "cell_type": "markdown",
   "id": "fe2e5082",
   "metadata": {},
   "source": [
    "#### Q39. 현재 요일을 \"2021-6-26 오늘은 토요일입니다.\"와 같은 형식으로 출력하세요.\n",
    "\n"
   ]
  },
  {
   "cell_type": "code",
   "execution_count": 22,
   "id": "0d9bc91a-657c-4b29-bc2c-3daaa78cdb69",
   "metadata": {},
   "outputs": [
    {
     "name": "stdout",
     "output_type": "stream",
     "text": [
      "2022-7-26 오늘은 화요일입니다.\n"
     ]
    }
   ],
   "source": [
    "import datetime\n",
    "today= datetime.date.today()\n",
    "y = today.year\n",
    "m = today.month\n",
    "d = today.day\n",
    "# w = today.weekday()\n",
    "\n",
    "def get_yoil(y,m,d):\n",
    "    days = ['월','화','수','목','금','토','일']\n",
    "    return days[datetime.date(y,m,d).weekday()]\n",
    "w = get_yoil(y,m,d)\n",
    "print(f'{y}-{m}-{d} 오늘은 {w}요일입니다.')"
   ]
  },
  {
   "cell_type": "markdown",
   "id": "8305898d",
   "metadata": {},
   "source": [
    "#### Q40. 1에서 백만까지 더하는데 걸리는 프로그램 실행 시간을 밀리초(ms) 단위로 구하세요."
   ]
  },
  {
   "cell_type": "code",
   "execution_count": 27,
   "id": "06493be7",
   "metadata": {},
   "outputs": [
    {
     "name": "stdout",
     "output_type": "stream",
     "text": [
      "0.08502sec\n",
      "0\n"
     ]
    }
   ],
   "source": [
    "import time\n",
    "\n",
    "start = time.time()\n",
    "for i in range(1,1000001):\n",
    "    i += i\n",
    "end = time.time()\n",
    "\n",
    "print(f\"{end-start:.5f}sec\")\n"
   ]
  },
  {
   "cell_type": "code",
   "execution_count": null,
   "id": "5ae883b0-af72-4a51-be02-ce8e670ff1d6",
   "metadata": {},
   "outputs": [],
   "source": []
  }
 ],
 "metadata": {
  "kernelspec": {
   "display_name": "Python 3 (ipykernel)",
   "language": "python",
   "name": "python3"
  },
  "language_info": {
   "codemirror_mode": {
    "name": "ipython",
    "version": 3
   },
   "file_extension": ".py",
   "mimetype": "text/x-python",
   "name": "python",
   "nbconvert_exporter": "python",
   "pygments_lexer": "ipython3",
   "version": "3.9.12"
  },
  "toc": {
   "base_numbering": 1,
   "nav_menu": {},
   "number_sections": true,
   "sideBar": true,
   "skip_h1_title": false,
   "title_cell": "Table of Contents",
   "title_sidebar": "Contents",
   "toc_cell": false,
   "toc_position": {},
   "toc_section_display": true,
   "toc_window_display": true
  }
 },
 "nbformat": 4,
 "nbformat_minor": 5
}
